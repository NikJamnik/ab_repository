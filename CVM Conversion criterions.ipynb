{
 "cells": [
  {
   "cell_type": "markdown",
   "id": "1d11e05e",
   "metadata": {},
   "source": [
    "# CVM. Выбор и проверка критерия для метрик конверсии"
   ]
  },
  {
   "cell_type": "markdown",
   "id": "f53a3643",
   "metadata": {},
   "source": [
    "## Цели и описание ноутбука\n",
    "Эксперименты CVM, целевыми метриками которых являются метрики конверсии, могут помочь при решении следующих задач:\n",
    "- Сравнение конверсии группы с константным значением конверсии\n",
    "- Сравнение больших конверсий между группами\n",
    "- Сравнение малых конверсий между группами\n",
    "\n",
    "Целями данного ноутбука являются:\n",
    "1. Описание критериев, которые необходимо применять в каждой из вышеописанных задач\n",
    "2. Описание функций, которые рассчитывают размер выборки и минимальный детектируемый эффект для каждого критерия\n",
    "3. Описание функций, которые проверяют корректность выбора критерия на синтетических данных\n",
    "4. Описание функций, которые строят доверительные интервалы для разницы между целевыми метриками\n",
    "5. Опиание функций, которые используют для проверки статистической значимости при множественном тестировании"
   ]
  },
  {
   "cell_type": "code",
   "execution_count": 2,
   "id": "c96a948e",
   "metadata": {},
   "outputs": [],
   "source": [
    "# Magic function to autoreload kernel when python module's code is changed\n",
    "%load_ext autoreload\n",
    "%autoreload 2"
   ]
  },
  {
   "cell_type": "code",
   "execution_count": 3,
   "id": "2c4977d0",
   "metadata": {},
   "outputs": [],
   "source": [
    "import numpy as np\n",
    "import scipy.stats as st\n",
    "import matplotlib.pyplot as plt\n",
    "import seaborn as sns; sns.set_style('white')\n",
    "\n",
    "from ab_utils.standard_values import z_value, t_value"
   ]
  },
  {
   "cell_type": "markdown",
   "id": "54dd0e75",
   "metadata": {},
   "source": [
    "## 1. Критерии для метрик конверсий\n",
    "\n",
    "Критерий (или статистический тест) — это правило, по которому на основании выборочных данных принимается решение: принимать или отвергать нулевую гипотезу $H_0$. При этом критерий основывается на случайной величине $T(X_1, X_2, ... , X_n)$, называемой статистикой критерия.\n",
    "\n",
    "Основные условия, которым должна удовлетворять случайная величина, чтобы считаться критерием:\n",
    "1. Определена как функция от выборки\n",
    "2. Известно (или выводимо) распределение при $H_0$\n",
    "3. Чувствительность к отклонению от $H_0$ - при верной альтернативе $H_1$ распределение $T$ должно изменяться таким образом, чтобы вероятность попасть в критическую область возрастала\n",
    "4. Монотонность / направленность - для односторонних тестов значение $T$ должно возрастать (или убывать) при переходе от $H_0$ к $H_1$, чтобы можно было задать однозначную «область отклонения» (чем больше отклонение, тем больше мощность теста)\n",
    "5. Независимость от параметров, не проверяемых гипотезой (инвариантность)\n",
    "6. Статистика критерия должна быть вычислимой\n",
    "\n",
    "При решении задач сравнения конверсий необходимо применять следующие критерии:\n",
    "1. Сравнение конверсии в группе с константным значением:\n",
    "    - Биномиальный тест (Binomial test)\n",
    "    - Одновыборочный T-тест (One-sample T-test)\n",
    "2. Сравнение больших конверсий между группами:\n",
    "    - Z-тест для пропорций (Z-test)\n",
    "    - Двухвыборочный T-тест (Welch's T-test)\n",
    "3. Сравнение малых конверсий между группами:\n",
    "    - Точный тест Фишера (Fisher's Exact Test)\n",
    "    - Бутстрап (Bootstrap) (применим ко всем трём задачам)"
   ]
  },
  {
   "cell_type": "markdown",
   "id": "95d43259",
   "metadata": {},
   "source": [
    "### 1.1.1. Сравнение конверсии в группе с константой. Биномиальный тест\n",
    "\n",
    "#### Проверяемые гипотезы\n",
    "$$\n",
    "H_0: p = p_0 \\\\\n",
    "H_1: p <> p_0\n",
    "$$\n",
    "где $p$ - конверсия в экспериментальной группе, $p_0$ - константа, с которой необходимо сравнить конверсию\n",
    "\n",
    "#### Статистика критерия\n",
    "Статистикой критерия является количество успехов $k$ в $n$ испытаниях. При верности $H_0$ статистика имеет биномиальное распределение с параметрами $n$ и $p_0$. $k ~ Binomial(n, p_0)$. \n",
    "\n",
    "#### Расчёт p-value\n",
    "$p-value$ в данном случае есть сумма вероятностей всех исходов, вероятность которых меньше либо равна вероятности наблюдаемого $k$."
   ]
  },
  {
   "cell_type": "code",
   "execution_count": null,
   "id": "da7771d3",
   "metadata": {},
   "outputs": [],
   "source": []
  },
  {
   "cell_type": "code",
   "execution_count": null,
   "id": "898b8988",
   "metadata": {},
   "outputs": [],
   "source": []
  },
  {
   "cell_type": "code",
   "execution_count": null,
   "id": "16455441",
   "metadata": {},
   "outputs": [],
   "source": []
  },
  {
   "cell_type": "code",
   "execution_count": null,
   "id": "bf9a201f",
   "metadata": {},
   "outputs": [],
   "source": []
  },
  {
   "cell_type": "code",
   "execution_count": null,
   "id": "d95f15d2",
   "metadata": {},
   "outputs": [],
   "source": []
  },
  {
   "cell_type": "code",
   "execution_count": null,
   "id": "0da26801",
   "metadata": {},
   "outputs": [],
   "source": []
  },
  {
   "cell_type": "markdown",
   "id": "ddd94de0",
   "metadata": {},
   "source": [
    "## 2. Расчёта размера выборки (Sample Size) и минимального детектируемого эффекта (MDE)\n",
    "\n",
    "..."
   ]
  },
  {
   "cell_type": "code",
   "execution_count": null,
   "id": "caf71e84",
   "metadata": {},
   "outputs": [],
   "source": []
  },
  {
   "cell_type": "code",
   "execution_count": null,
   "id": "9b368e0e",
   "metadata": {},
   "outputs": [],
   "source": []
  },
  {
   "cell_type": "code",
   "execution_count": null,
   "id": "bac1fa30",
   "metadata": {},
   "outputs": [],
   "source": []
  },
  {
   "cell_type": "markdown",
   "id": "7980f8a8",
   "metadata": {},
   "source": [
    "## 3. Проверка корректности выбора критерия на синтетических данных\n",
    "\n",
    "..."
   ]
  },
  {
   "cell_type": "code",
   "execution_count": null,
   "id": "46b270b0",
   "metadata": {},
   "outputs": [],
   "source": []
  },
  {
   "cell_type": "code",
   "execution_count": null,
   "id": "972b480d",
   "metadata": {},
   "outputs": [],
   "source": []
  },
  {
   "cell_type": "code",
   "execution_count": null,
   "id": "7f97ea8a",
   "metadata": {},
   "outputs": [],
   "source": []
  }
 ],
 "metadata": {
  "kernelspec": {
   "display_name": "ab_env",
   "language": "python",
   "name": "python3"
  },
  "language_info": {
   "codemirror_mode": {
    "name": "ipython",
    "version": 3
   },
   "file_extension": ".py",
   "mimetype": "text/x-python",
   "name": "python",
   "nbconvert_exporter": "python",
   "pygments_lexer": "ipython3",
   "version": "3.11.9"
  }
 },
 "nbformat": 4,
 "nbformat_minor": 5
}
