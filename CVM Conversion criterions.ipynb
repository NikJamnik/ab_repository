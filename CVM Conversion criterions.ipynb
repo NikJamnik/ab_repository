{
 "cells": [
  {
   "cell_type": "markdown",
   "id": "1d11e05e",
   "metadata": {},
   "source": [
    "# CVM. Выбор и проверка критерия для метрик конверсии"
   ]
  },
  {
   "cell_type": "markdown",
   "id": "f53a3643",
   "metadata": {},
   "source": [
    "## Цели и описание ноутбука\n",
    "Эксперименты CVM, целевыми метриками которых являются метрики конверсии, могут помочь при решении следующих задач:\n",
    "- Сравнение конверсии группы с константным значением конверсии\n",
    "- Сравнение больших конверсий между группами\n",
    "- Сравнение малых конверсий между группами\n",
    "\n",
    "Целями данного ноутбука являются:\n",
    "1. Описание критериев, которые необходимо применять в каждой из вышеописанных задач\n",
    "2. Описание функций, которые рассчитывают размер выборки и минимальный детектируемый эффект для каждого критерия\n",
    "3. Описание функций, которые проверяют корректность выбора критерия на синтетических данных"
   ]
  },
  {
   "cell_type": "markdown",
   "id": "54dd0e75",
   "metadata": {},
   "source": [
    "## 1. Критерии для метрик конверсий\n",
    "\n",
    "..."
   ]
  },
  {
   "cell_type": "code",
   "execution_count": null,
   "id": "da7771d3",
   "metadata": {},
   "outputs": [],
   "source": []
  },
  {
   "cell_type": "code",
   "execution_count": null,
   "id": "898b8988",
   "metadata": {},
   "outputs": [],
   "source": []
  },
  {
   "cell_type": "code",
   "execution_count": null,
   "id": "16455441",
   "metadata": {},
   "outputs": [],
   "source": []
  },
  {
   "cell_type": "markdown",
   "id": "ddd94de0",
   "metadata": {},
   "source": [
    "## 2. Расчёта размера выборки (Sample Size) и минимального детектируемого эффекта (MDE)\n",
    "\n",
    "..."
   ]
  },
  {
   "cell_type": "code",
   "execution_count": null,
   "id": "caf71e84",
   "metadata": {},
   "outputs": [],
   "source": []
  },
  {
   "cell_type": "code",
   "execution_count": null,
   "id": "9b368e0e",
   "metadata": {},
   "outputs": [],
   "source": []
  },
  {
   "cell_type": "code",
   "execution_count": null,
   "id": "bac1fa30",
   "metadata": {},
   "outputs": [],
   "source": []
  },
  {
   "cell_type": "markdown",
   "id": "7980f8a8",
   "metadata": {},
   "source": [
    "## 3. Проверка корректности выбора критерия на синтетических данных"
   ]
  },
  {
   "cell_type": "code",
   "execution_count": null,
   "id": "46b270b0",
   "metadata": {},
   "outputs": [],
   "source": []
  },
  {
   "cell_type": "code",
   "execution_count": null,
   "id": "972b480d",
   "metadata": {},
   "outputs": [],
   "source": []
  },
  {
   "cell_type": "code",
   "execution_count": null,
   "id": "7f97ea8a",
   "metadata": {},
   "outputs": [],
   "source": []
  }
 ],
 "metadata": {
  "kernelspec": {
   "display_name": "ab_env",
   "language": "python",
   "name": "python3"
  },
  "language_info": {
   "name": "python",
   "version": "3.11.9"
  }
 },
 "nbformat": 4,
 "nbformat_minor": 5
}
